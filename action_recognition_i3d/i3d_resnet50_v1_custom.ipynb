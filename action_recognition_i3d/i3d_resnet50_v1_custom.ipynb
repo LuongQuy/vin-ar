{
 "cells": [
  {
   "cell_type": "code",
   "execution_count": null,
   "metadata": {
    "colab": {
     "base_uri": "https://localhost:8080/"
    },
    "executionInfo": {
     "elapsed": 277069,
     "status": "ok",
     "timestamp": 1607419473479,
     "user": {
      "displayName": "15021034 Lương Văn Quý",
      "photoUrl": "",
      "userId": "12745025940911567436"
     },
     "user_tz": -420
    },
    "id": "SZ5kX_OFwc-y",
    "outputId": "26a31618-6fb6-4bed-ab40-fe3cabfc2fb0"
   },
   "outputs": [],
   "source": [
    "!pip install --upgrade mxnet-cu102mkl gluoncv\n",
    "!pip install mxnet-cu100\n",
    "!pip install Cython\n",
    "!pip install mmcv"
   ]
  },
  {
   "cell_type": "code",
   "execution_count": null,
   "metadata": {
    "colab": {
     "base_uri": "https://localhost:8080/",
     "height": 374
    },
    "executionInfo": {
     "elapsed": 915,
     "status": "error",
     "timestamp": 1607488388377,
     "user": {
      "displayName": "15021034 Lương Văn Quý",
      "photoUrl": "",
      "userId": "12745025940911567436"
     },
     "user_tz": -420
    },
    "id": "LUH5l0n0wnsw",
    "outputId": "fb9327ce-3bb0-4c9a-f3a7-8bb73829aaaa"
   },
   "outputs": [],
   "source": [
    "from __future__ import division\n",
    "\n",
    "import argparse, time, logging, os, sys, math\n",
    "\n",
    "import numpy as np\n",
    "import mxnet as mx\n",
    "import gluoncv as gcv\n",
    "from mxnet import gluon, nd, init, context\n",
    "from mxnet import autograd as ag\n",
    "from mxnet.gluon import nn\n",
    "from mxnet.gluon.data.vision import transforms\n",
    "\n",
    "from gluoncv.data.transforms import video\n",
    "from gluoncv.data import VideoClsCustom\n",
    "from gluoncv.model_zoo import get_model\n",
    "from gluoncv.utils import makedirs, LRSequential, LRScheduler, split_and_load, TrainingHistory"
   ]
  },
  {
   "cell_type": "code",
   "execution_count": null,
   "metadata": {
    "colab": {
     "base_uri": "https://localhost:8080/",
     "height": 1000
    },
    "executionInfo": {
     "elapsed": 4824087,
     "status": "error",
     "timestamp": 1607424576198,
     "user": {
      "displayName": "15021034 Lương Văn Quý",
      "photoUrl": "",
      "userId": "12745025940911567436"
     },
     "user_tz": -420
    },
    "id": "33eeGWrgwpqO",
    "outputId": "22e7b476-2719-4d0e-ae83-a15c9d96b420"
   },
   "outputs": [],
   "source": [
    "root_path = '/content/drive/MyDrive/vin/DeepLearning/final_project/my_dataset/processed/'\n",
    "setting_path = '/content/drive/MyDrive/vin/DeepLearning/final_project/my_dataset/train_file.txt'\n",
    "output_path = '/content/drive/MyDrive/vin/DeepLearning/final_project/output/'\n",
    "\n",
    "num_gpus = 1\n",
    "ctx = [mx.gpu(i) for i in range(num_gpus)]\n",
    "transform_train = video.VideoGroupTrainTransform(size=(224, 224), scale_ratios=[1.0, 0.8], mean=[0.485, 0.456, 0.406], std=[0.229, 0.224, 0.225])\n",
    "per_device_batch_size = 5\n",
    "num_workers = 0\n",
    "batch_size = per_device_batch_size * num_gpus\n",
    "\n",
    "train_dataset = VideoClsCustom(root=os.path.expanduser(root_path),\n",
    "                               setting=os.path.expanduser(setting_path),\n",
    "                               train=True,\n",
    "                               video_loader=True,\n",
    "                               new_length=32,\n",
    "                               transform=transform_train)\n",
    "print('Load %d training samples.' % len(train_dataset))\n",
    "train_data = gluon.data.DataLoader(train_dataset, batch_size=batch_size,\n",
    "                                   shuffle=True, num_workers=num_workers)\n",
    "\n",
    "num_gpus = 1\n",
    "ctx = [mx.gpu(i) for i in range(num_gpus)]\n",
    "transform_train = video.VideoGroupTrainTransform(size=(224, 224), scale_ratios=[1.0, 0.8], mean=[0.485, 0.456, 0.406], std=[0.229, 0.224, 0.225])\n",
    "per_device_batch_size = 5\n",
    "num_workers = 0\n",
    "batch_size = per_device_batch_size * num_gpus\n",
    "\n",
    "net = get_model(name='i3d_resnet50_v1_custom', nclass=3)\n",
    "net.collect_params().reset_ctx(ctx)\n",
    "\n",
    "lr_decay = 0.1\n",
    "lr_decay_epoch = [40, 80, 100]\n",
    "\n",
    "optimizer = 'sgd'\n",
    "optimizer_params = {'learning_rate': 0.001, 'wd': 0.0001, 'momentum': 0.9}\n",
    "\n",
    "trainer = gluon.Trainer(net.collect_params(), optimizer, optimizer_params)\n",
    "loss_fn = gluon.loss.SoftmaxCrossEntropyLoss()\n",
    "\n",
    "train_metric = mx.metric.Accuracy()\n",
    "train_history = TrainingHistory(['training-acc'])\n",
    "\n",
    "epochs = 20\n",
    "lr_decay_count = 0\n",
    "\n",
    "for epoch in range(epochs):\n",
    "    tic = time.time()\n",
    "    train_metric.reset()\n",
    "    train_loss = 0\n",
    "\n",
    "    if epoch == lr_decay_epoch[lr_decay_count]:\n",
    "        trainer.set_learning_rate(trainer.learning_rate*lr_decay)\n",
    "        lr_decay_count += 1\n",
    "        \n",
    "    for i, batch in enumerate(train_data):\n",
    "        # Extract data and label\n",
    "        data = split_and_load(batch[0], ctx_list=ctx, batch_axis=0)\n",
    "        label = split_and_load(batch[1], ctx_list=ctx, batch_axis=0)\n",
    "\n",
    "        with ag.record():\n",
    "            output = []\n",
    "            for _, X in enumerate(data):\n",
    "                X = X.reshape((-1,) + X.shape[2:])\n",
    "                pred = net(X)\n",
    "                output.append(pred)\n",
    "            loss = [loss_fn(yhat, y) for yhat, y in zip(output, label)]\n",
    "\n",
    "        for l in loss:\n",
    "            l.backward()\n",
    "\n",
    "        trainer.step(batch_size)\n",
    "\n",
    "        train_loss += sum([l.mean().asscalar() for l in loss])\n",
    "        train_metric.update(label, output)\n",
    "\n",
    "        if i == 100:\n",
    "            break\n",
    "\n",
    "    name, acc = train_metric.get()\n",
    "    train_history.update([acc])\n",
    "    print('[Epoch %d] train=%f loss=%f time: %f' %\n",
    "        (epoch, acc, train_loss / (i+1), time.time()-tic))\n",
    "    \n",
    "train_history.plot()"
   ]
  },
  {
   "cell_type": "code",
   "execution_count": null,
   "metadata": {
    "id": "eFxvvcYXw1wR"
   },
   "outputs": [],
   "source": [
    "net.save_parameters(output_path+'i3d_resnet50_v1_custom_20epochs.params')"
   ]
  },
  {
   "cell_type": "code",
   "execution_count": null,
   "metadata": {
    "id": "jHNg13K51m4w"
   },
   "outputs": [],
   "source": []
  }
 ],
 "metadata": {
  "accelerator": "GPU",
  "colab": {
   "authorship_tag": "ABX9TyOuaGEFeviet8HXfoPJDmEb",
   "collapsed_sections": [],
   "mount_file_id": "1HbaVuMB55OBeeL7M8hxjlG5drvF6fuVB",
   "name": "i3d_resnet50_v1_custom.ipynb",
   "provenance": []
  },
  "kernelspec": {
   "display_name": "Python 3",
   "language": "python",
   "name": "python3"
  },
  "language_info": {
   "codemirror_mode": {
    "name": "ipython",
    "version": 3
   },
   "file_extension": ".py",
   "mimetype": "text/x-python",
   "name": "python",
   "nbconvert_exporter": "python",
   "pygments_lexer": "ipython3",
   "version": "3.7.9"
  }
 },
 "nbformat": 4,
 "nbformat_minor": 1
}
